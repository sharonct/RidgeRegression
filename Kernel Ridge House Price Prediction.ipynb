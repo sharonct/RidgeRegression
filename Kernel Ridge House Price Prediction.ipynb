{
 "cells": [
  {
   "cell_type": "markdown",
   "metadata": {},
   "source": [
    "# Part 1: Proof of Concept Program\n",
    "This program involves the implementation of Ridge Regression and Kernel Ridge Regression on a sample dataset. The models created from the custom algorithms are then evaluated and their performance is compared to sklearn's inbuilt functions for ridge regression"
   ]
  },
  {
   "cell_type": "code",
   "execution_count": 1,
   "metadata": {},
   "outputs": [],
   "source": [
    "import numpy as np\n",
    "import pandas as pd\n",
    "from typing import List\n",
    "from numpy.linalg import inv\n",
    "from scipy import linalg\n",
    "from sklearn import metrics\n",
    "from sklearn.utils import shuffle\n",
    "from sklearn.model_selection import train_test_split\n",
    "from sklearn.preprocessing import StandardScaler\n",
    "from sklearn.linear_model import Ridge\n",
    "from sklearn.kernel_ridge import KernelRidge"
   ]
  },
  {
   "cell_type": "code",
   "execution_count": 2,
   "metadata": {},
   "outputs": [],
   "source": [
    "class RidgeRegression:\n",
    "    def __init__(self, learning_rate: float, reg_strength: float, max_iter: int):\n",
    "        \"\"\"Initialize.\n",
    "        Args:\n",
    "            learning_rate (float): Learning rate for gradient descent.\n",
    "            reg_strength (float): Regularization parameter, to control the bias-variance tradeoff.\n",
    "            max_iter (int): Number of iterations to run gradient descent.\n",
    "        \"\"\"\n",
    "        self.learn_rate = learning_rate\n",
    "        self.reg_strength = reg_strength\n",
    "        self.max_iter = max_iter\n",
    "        self._weights: np.array\n",
    "        self.X_train: np.array\n",
    "        self.y_train: np.array\n",
    "        self.train_size: int\n",
    "        self.features: int\n",
    "\n",
    "    def weights(self):\n",
    "        \"\"\"Return ridge regression model weights.\"\"\"\n",
    "        return self._weights\n",
    "\n",
    "    def fit(self, x_train, y_train):\n",
    "        \"\"\"Fit model weights to training data.\"\"\"\n",
    "        self.train_size, self.features = x_train.shape[0], x_train.shape[1]\n",
    "        self.X_train = np.append(np.ones(self.train_size).reshape(-1, 1), x_train, axis=1)  # Add one for the intercept term for all training examples.\n",
    "        self.y_train = y_train.to_numpy()\n",
    "        self._weights = np.zeros(self.features + 1)  # +1 for the intercept.\n",
    "\n",
    "        self.optimize_weights()\n",
    "\n",
    "    def optimize_weights(self):\n",
    "        \"\"\"Optimize model weights for self.max_iter iterations.\"\"\"\n",
    "        for _ in range(self.max_iter):\n",
    "            self.update_step()    \n",
    "\n",
    "    def update_step(self):\n",
    "        \"\"\"Update model weights with batch gradient descent step.\n",
    "       The update statement for a model weight theta_k is:\n",
    "        theta_k = theta_k - (learn_rate * J_theta_k)\n",
    "        where J_theta_k = cost function\n",
    "              J_theta_k = (2 / train_size) * ( ((y_hat - y_real) * x_k) + (alpha * theta_k^2))\n",
    "        \"\"\"\n",
    "        y_hat = (self._weights * self.X_train).sum(axis=1)\n",
    "        errors = (y_hat - self.y_train).reshape(-1, 1)\n",
    "\n",
    "        j_theta = (2 / self.train_size) * ((errors * self.X_train).sum(axis=0) +\n",
    "                                           (self.reg_strength * self._weights))\n",
    "        step = self.learn_rate * j_theta\n",
    "\n",
    "        self._weights = self._weights - step.reshape(-1)\n",
    "        \n",
    "    def predict(self, x_test):\n",
    "\n",
    "        test_size = x_test.shape[0]\n",
    "        x_test = np.append(np.ones(test_size).reshape(-1, 1), x_test, axis=1)\n",
    "\n",
    "        return (self._weights * x_test).sum(axis=1)\n"
   ]
  },
  {
   "cell_type": "code",
   "execution_count": 3,
   "metadata": {},
   "outputs": [],
   "source": [
    "class KernelRidge:\n",
    "    \"\"\"\n",
    "        kernel_type: Kernel type to use in training.\n",
    "                        'linear' use linear kernel function.\n",
    "                        'quadratic' use quadratic kernel function.\n",
    "                        'gaussian' use gaussian kernel function\n",
    "        C: Value of regularization parameter C\n",
    "        gamma: parameter for gaussian kernel or Polynomial kernel\n",
    "        \"\"\"\n",
    "    def __init__(self, kernel_type: str, C:float, gamma:float):\n",
    "        self.kernels = {\n",
    "            'linear': self.kernel_linear,\n",
    "            'quadratic': self.kernel_quadratic,\n",
    "            'gaussian': self.kernel_gaussian\n",
    "        }\n",
    "        self.kernel_type = kernel_type\n",
    "        self.kernel = self.kernels[self.kernel_type]\n",
    "        self.C = C\n",
    "        self.gamma = gamma\n",
    "\n",
    "    # Define kernels\n",
    "    def kernel_linear(self, x1, x2):\n",
    "        return np.dot(x1, x2.T)\n",
    "\n",
    "    def kernel_quadratic(self, x1, x2):\n",
    "        return (np.dot(x1, x2.T) ** 2)\n",
    "\n",
    "    def kernel_gaussian(self, x1, x2, gamma=5.0):\n",
    "        gamma = self.gamma\n",
    "        return np.exp(-linalg.norm(x1 - x2) ** 2 / (2 * (gamma ** 2)))\n",
    "\n",
    "    def compute_kernel_matrix(self, X1, X2):\n",
    "        \"\"\"\n",
    "        compute kernel matrix (gram matrix) give two input matrix\n",
    "        \"\"\"\n",
    "\n",
    "        # sample size\n",
    "        n1 = X1.shape[0]\n",
    "        n2 = X2.shape[0]\n",
    "\n",
    "        # Gram matrix\n",
    "        K = np.zeros((n1, n2))\n",
    "        for i in range(n1):\n",
    "            for j in range(n2):\n",
    "                K[i, j] = self.kernel(X1[i], X2[j])\n",
    "\n",
    "        return K\n",
    "\n",
    "\n",
    "    def fit(self, X, y):\n",
    "\n",
    "        X = np.append(np.ones(X.shape[0]).reshape(-1, 1), X, axis=1)  # Add one for the intercept term for all training examples.\n",
    "        \n",
    "        K = self.compute_kernel_matrix(X,X)\n",
    "\n",
    "        self.alphas = np.dot(inv(K + self.C * np.eye(np.shape(K)[0])),\n",
    "                        y.transpose())    \n",
    "        return self.alphas\n",
    "\n",
    "    def predict(self, x_train, x_test):\n",
    "\n",
    "        k = self.compute_kernel_matrix(x_test, x_train)\n",
    "\n",
    "        y_test = np.dot(k, self.alphas)\n",
    "        return y_test.transpose()\n",
    "    \n",
    "    def predict(self, x_train, x_test):\n",
    "\n",
    "        k = self.compute_kernel_matrix(x_test, x_train)\n",
    "\n",
    "        y_test = np.dot(k, self.alphas)\n",
    "        return y_test.transpose()"
   ]
  },
  {
   "cell_type": "markdown",
   "metadata": {},
   "source": [
    "## Data Preparation\n",
    "### Data split function"
   ]
  },
  {
   "cell_type": "code",
   "execution_count": 4,
   "metadata": {},
   "outputs": [],
   "source": [
    "# Fuction to split the data into train and test sets\n",
    "\n",
    "def split_train_test(x_data: np.array, y_labels: np.array, features: list,\n",
    "                         test_size: float) -> dict:\n",
    "    \n",
    "    x_train, x_test, y_train, y_test = train_test_split(x_data,\n",
    "                                                        y_labels,\n",
    "                                                        test_size=test_size,\n",
    "                                                        random_state=41,\n",
    "                                                        shuffle=True)\n",
    "    return_val = {\n",
    "        'x_train': pd.DataFrame(x_train, columns=features),\n",
    "        'x_test': pd.DataFrame(x_test, columns=features),\n",
    "        'y_train': pd.Series(y_train),\n",
    "        'y_test': pd.Series(y_test)\n",
    "    }\n",
    "    return return_val\n",
    " "
   ]
  },
  {
   "cell_type": "markdown",
   "metadata": {},
   "source": [
    "### Loading the data"
   ]
  },
  {
   "cell_type": "code",
   "execution_count": 5,
   "metadata": {},
   "outputs": [],
   "source": [
    "data = pd.read_csv('References\\salary_data.csv')\n",
    "\n",
    "# Shuffling the dataset\n",
    "data = shuffle(data)\n",
    "\n",
    "feature_list = list(data.columns)\n",
    "target = 'Salary'\n",
    "feature_list.remove(target)\n",
    "\n",
    "# Create the train and test splits\n",
    "data_splits = split_train_test(x_data=data[feature_list].to_numpy(),\n",
    "                                                 y_labels=data[target].to_numpy(),\n",
    "                                                 features=feature_list,\n",
    "                                                 test_size=0.2)\n"
   ]
  },
  {
   "cell_type": "markdown",
   "metadata": {},
   "source": [
    "## Data normalization"
   ]
  },
  {
   "cell_type": "code",
   "execution_count": 6,
   "metadata": {},
   "outputs": [],
   "source": [
    "# sklearn StandardScaler() function to normalize the data\n",
    "scaler = StandardScaler()\n",
    "\n",
    "#Standardize features\n",
    "dframe=data_splits['x_train']\n",
    "features=feature_list\n",
    "scaler.fit(X=dframe[features])\n",
    "\n",
    "# Store the train set mean and variance to be used to normalize the test set.\n",
    "train_means = scaler.mean_\n",
    "train_vars = scaler.var_\n",
    "\n",
    "data_splits['x_train'] = scaler.transform(X=dframe[features])\n",
    "\n",
    "#Standardize the test_set using the training set feature means and variances\n",
    "dframe=data_splits['x_test']\n",
    "\n",
    "centered_df = dframe[features] - train_means\n",
    "data_splits['x_test'] = centered_df / (train_vars**0.5)"
   ]
  },
  {
   "cell_type": "markdown",
   "metadata": {},
   "source": [
    "## Model Comparison"
   ]
  },
  {
   "cell_type": "code",
   "execution_count": 7,
   "metadata": {},
   "outputs": [],
   "source": [
    "def get_ridge_regression_score(data_splits: dict, reg_strength: float, max_iter: int):\n",
    "    ridge_obj = RidgeRegression(learning_rate=0.01, reg_strength=reg_strength, max_iter=max_iter)\n",
    "    ridge_obj.fit(data_splits['x_train'], data_splits['y_train'])\n",
    "    predictions = ridge_obj.predict(data_splits['x_test'])\n",
    "    return mean_absolute_percentage_error(y_true=data_splits['y_test'], y_pred=predictions)\n",
    "\n",
    "def get_kernel_ridge_regression_score(data_splits: dict,kernel_type:str, C:float, gamma:float):\n",
    "    kridge_obj = KernelRidge(kernel_type = kernel_type, C=C ,gamma = gamma)\n",
    "    kridge_obj.fit(data_splits['x_train'], data_splits['y_train'])\n",
    "    predictions = kridge_obj.predict(data_splits['x_train'],data_splits['x_test'].values)\n",
    "    return mean_absolute_percentage_error(y_true=data_splits['y_test'], y_pred=predictions)\n",
    "\n",
    "def get_sklearn_prediction_score(data_splits: dict, reg_strength: float, max_iter: int):\n",
    "    clf = Ridge(alpha=reg_strength, solver='sag', max_iter=max_iter)\n",
    "    model = clf.fit(data_splits['x_train'], data_splits['y_train'])\n",
    "    predictions = model.predict(data_splits['x_test'])\n",
    "    return mean_absolute_percentage_error(y_true=data_splits['y_test'], y_pred=predictions)\n"
   ]
  },
  {
   "cell_type": "code",
   "execution_count": 8,
   "metadata": {},
   "outputs": [],
   "source": [
    "# Performance metic fuction\n",
    "\n",
    "def mean_absolute_percentage_error(y_true, y_pred):\n",
    "    \"\"\"Return mean absolute percentage error of y_pred.\"\"\"\n",
    "    y_true, y_pred = np.array(y_true), np.array(y_pred)\n",
    "    abs_errors = np.abs((y_true - y_pred) / y_true)\n",
    "    return np.mean(abs_errors) * 100\n"
   ]
  },
  {
   "cell_type": "code",
   "execution_count": 9,
   "metadata": {},
   "outputs": [],
   "source": [
    "def predict():\n",
    "    ridge_reg_score = get_ridge_regression_score(data_splits, reg_strength=10, max_iter=1000)\n",
    "    kernel_ridge_score = get_kernel_ridge_regression_score(data_splits,kernel_type='gaussian', C=1.0, gamma=5.0)\n",
    "    sklearn_score = get_sklearn_prediction_score(data_splits, reg_strength=10, max_iter=1000)\n",
    "    return ridge_reg_score, kernel_ridge_score, sklearn_score "
   ]
  },
  {
   "cell_type": "code",
   "execution_count": 10,
   "metadata": {},
   "outputs": [
    {
     "name": "stdout",
     "output_type": "stream",
     "text": [
      "29.58985412927025\n",
      "22.534719131764415\n",
      "13.883414901915089\n"
     ]
    }
   ],
   "source": [
    "ridge_reg_score, kernel_ridge_score, sklearn_score = predict()\n",
    "print(ridge_reg_score)\n",
    "print(kernel_ridge_score)\n",
    "print(sklearn_score)"
   ]
  },
  {
   "cell_type": "markdown",
   "metadata": {},
   "source": [
    "The Kernel Ridge implementation outperforms the basic ridge regression model. However, when compared to the sklearn model score, this custom implementation has a higher error rate. The error should reduce with hyperparameter tuning, and this is expored in the following sections. "
   ]
  },
  {
   "cell_type": "markdown",
   "metadata": {},
   "source": [
    "# Part 2\n",
    "\n",
    "This section entails the application of our custom model to the Boston House Price Prediction dataset. The data is preprocessed to encode categorical variables and normalized using sklearn's StandardScaler() function. After the data prepaation section, the model is tested with different a pool of parameters in  order to determine the best parameter values for optimal performance. <br>Finally, the best model is selected and compared with other regression algorithms inbuilt within sklearn such as the Support Vector Regressor,Decision Tree Regressor, Random Forest Regressor and the KNN Regressor. Also applied are the XGBoost regressor and the Keras Regressor. Their performance is then compared and vizualized."
   ]
  },
  {
   "cell_type": "markdown",
   "metadata": {},
   "source": [
    "## Data Preparation"
   ]
  },
  {
   "cell_type": "code",
   "execution_count": 11,
   "metadata": {},
   "outputs": [],
   "source": [
    "from sklearn.datasets import load_boston\n",
    "from sklearn.preprocessing import OrdinalEncoder, OneHotEncoder\n",
    "\n",
    "# Loading the data\n",
    "boston_dataset = load_boston()\n",
    "data = pd.DataFrame(boston_dataset.data, columns = boston_dataset.feature_names)\n",
    "data['MEDV'] = boston_dataset.target\n",
    "target = 'MEDV'\n",
    "\n",
    "# Encoding the categotical variables\n",
    "onehot = OneHotEncoder(sparse = False)\n",
    "data['CHAS'] = onehot.fit_transform(data['CHAS'].values.reshape(-1, 1))\n",
    "\n",
    "encoder = OrdinalEncoder()\n",
    "data['RAD'] = encoder.fit_transform(data['RAD'].values.reshape(-1, 1))\n",
    "\n",
    "feature_list = list(data.columns)\n",
    "feature_list.remove(target)\n",
    "\n",
    "data_splits = split_train_test(x_data=data[feature_list].to_numpy(),\n",
    "                                                 y_labels=data[target].to_numpy(),\n",
    "                                                 features=feature_list,\n",
    "                                                 test_size=0.2)\n"
   ]
  },
  {
   "cell_type": "markdown",
   "metadata": {},
   "source": [
    "## Data Normalization"
   ]
  },
  {
   "cell_type": "code",
   "execution_count": 12,
   "metadata": {},
   "outputs": [],
   "source": [
    "# sklearn StandardScaler() function to normalize the data\n",
    "scaler = StandardScaler()\n",
    "\n",
    "#Standardize features\n",
    "dframe=data_splits['x_train']\n",
    "features=feature_list\n",
    "scaler.fit(X=dframe[features])\n",
    "\n",
    "# Store the train set mean and variance to be used to normalize the test set.\n",
    "train_means = scaler.mean_\n",
    "train_vars = scaler.var_\n",
    "\n",
    "data_splits['x_train'] = scaler.transform(X=dframe[features])\n",
    "\n",
    "#Standardize the test_set using the training set feature means and variances\n",
    "dframe=data_splits['x_test']\n",
    "\n",
    "centered_df = dframe[features] - train_means\n",
    "data_splits['x_test'] = centered_df / (train_vars**0.5)"
   ]
  },
  {
   "cell_type": "code",
   "execution_count": 13,
   "metadata": {},
   "outputs": [
    {
     "name": "stdout",
     "output_type": "stream",
     "text": [
      "18.673518762809906\n",
      "14.589194639978064\n",
      "18.81712497120318\n"
     ]
    }
   ],
   "source": [
    "ridge_reg_score, kernel_ridge_score, sklearn_score = predict()\n",
    "print(ridge_reg_score)\n",
    "print(kernel_ridge_score)\n",
    "print(sklearn_score)"
   ]
  },
  {
   "cell_type": "markdown",
   "metadata": {},
   "source": [
    "## Feature selection for the Kernel Ridge Model"
   ]
  },
  {
   "cell_type": "code",
   "execution_count": 14,
   "metadata": {},
   "outputs": [],
   "source": [
    "C_range = [0.0025,0.01,1,5,10,50]\n",
    "gamma_range = [0.1,1,2,5,10,50]\n",
    "kernel_range  = ['linear','quadratic','gaussian']\n",
    "\n",
    "MAPE_vary_C = []\n",
    "MAPE_vary_gamma = []\n",
    "MAPE_vary_kernel = []\n",
    "\n",
    "for C in C_range:\n",
    "    model = KernelRidge(kernel_type = 'gaussian', C=C ,gamma = 5)\n",
    "    model.fit(data_splits['x_train'], data_splits['y_train'])\n",
    "    predictions = model.predict(data_splits['x_train'],data_splits['x_test'].values)\n",
    "    error = mean_absolute_percentage_error(y_true=data_splits['y_test'], y_pred=predictions)  \n",
    "    MAPE_vary_C.append(error)\n",
    "    \n",
    "for gamma in gamma_range:\n",
    "    model = KernelRidge(kernel_type = 'gaussian', C=0.01 ,gamma = gamma)\n",
    "    model.fit(data_splits['x_train'], data_splits['y_train'])\n",
    "    predictions = model.predict(data_splits['x_train'],data_splits['x_test'].values)\n",
    "    error = mean_absolute_percentage_error(y_true=data_splits['y_test'], y_pred=predictions)  \n",
    "    MAPE_vary_gamma.append(error)\n",
    "    \n",
    "for kernel in kernel_range:\n",
    "    model = KernelRidge(kernel_type = kernel, C=0.01 ,gamma = 5)\n",
    "    model.fit(data_splits['x_train'], data_splits['y_train'])\n",
    "    predictions = model.predict(data_splits['x_train'],data_splits['x_test'].values)\n",
    "    error = mean_absolute_percentage_error(y_true=data_splits['y_test'], y_pred=predictions)  \n",
    "    MAPE_vary_kernel.append(error)"
   ]
  },
  {
   "cell_type": "code",
   "execution_count": 15,
   "metadata": {},
   "outputs": [
    {
     "data": {
      "text/plain": [
       "Text(0, 0.5, 'MAPE')"
      ]
     },
     "execution_count": 15,
     "metadata": {},
     "output_type": "execute_result"
    },
    {
     "data": {
      "image/png": "[encoded data removed]",
      "text/plain": [
       "<Figure size 720x360 with 1 Axes>"
      ]
     },
     "metadata": {
      "needs_background": "light"
     },
     "output_type": "display_data"
    },
    {
     "data": {
      "image/png": "[encoded data removed]",
      "text/plain": [
       "<Figure size 720x360 with 1 Axes>"
      ]
     },
     "metadata": {
      "needs_background": "light"
     },
     "output_type": "display_data"
    },
    {
     "data": {
      "image/png": "[encoded data removed]",
      "text/plain": [
       "<Figure size 720x360 with 1 Axes>"
      ]
     },
     "metadata": {
      "needs_background": "light"
     },
     "output_type": "display_data"
    }
   ],
   "source": [
    "import seaborn as sns\n",
    "import matplotlib.pyplot as plt\n",
    "sns.set(font_scale = 2)\n",
    "plt.style.use('seaborn')\n",
    "%matplotlib inline\n",
    "\n",
    "# Plots\n",
    "vary_C_df = pd.DataFrame(MAPE_vary_C, columns=['MAPE'])\n",
    "plt.figure(figsize=(10,5))\n",
    "sns.lineplot(data=vary_C_df)\n",
    "plt.title('Effect of altering the Regression Strength on MAPE value', fontsize = 15)\n",
    "plt.xlabel('C value',fontsize = 15)\n",
    "plt.ylabel('MAPE',fontsize = 15)\n",
    "\n",
    "vary_gamma_df = pd.DataFrame(MAPE_vary_gamma, columns=['MAPE'])\n",
    "plt.figure(figsize=(10,5))\n",
    "sns.lineplot(data=vary_gamma_df)\n",
    "plt.title('Effect of altering the Kernel Parameter (gamma) on MAPE value', fontsize = 15)\n",
    "plt.xlabel('Gamma value', fontsize = 15)\n",
    "plt.ylabel('MAPE', fontsize = 15)\n",
    "\n",
    "vary_kernel_df = pd.DataFrame(MAPE_vary_kernel, columns=['MAPE'])\n",
    "vary_kernel_df['Kernel'] = ['Linear','Quadratic', 'Gaussian']\n",
    "plt.figure(figsize=(10,5))\n",
    "sns.barplot(x='Kernel',y='MAPE',data=vary_kernel_df)\n",
    "plt.title('Effect of altering the Kernel Type on MAPE value', fontsize = 15)\n",
    "plt.xlabel('Kernel Type', fontsize = 15)\n",
    "plt.ylabel('MAPE', fontsize = 15)\n"
   ]
  },
  {
   "cell_type": "code",
   "execution_count": 16,
   "metadata": {},
   "outputs": [
    {
     "data": {
      "text/html": [
       "<div>\n",
       "<style scoped>\n",
       "    .dataframe tbody tr th:only-of-type {\n",
       "        vertical-align: middle;\n",
       "    }\n",
       "\n",
       "    .dataframe tbody tr th {\n",
       "        vertical-align: top;\n",
       "    }\n",
       "\n",
       "    .dataframe thead th {\n",
       "        text-align: right;\n",
       "    }\n",
       "</style>\n",
       "<table border=\"1\" class=\"dataframe\">\n",
       "  <thead>\n",
       "    <tr style=\"text-align: right;\">\n",
       "      <th></th>\n",
       "      <th>C Values</th>\n",
       "      <th>C MAPE</th>\n",
       "      <th>Gamma Values</th>\n",
       "      <th>Gamma MAPE</th>\n",
       "    </tr>\n",
       "  </thead>\n",
       "  <tbody>\n",
       "    <tr>\n",
       "      <th>0</th>\n",
       "      <td>0.0025</td>\n",
       "      <td>11.940888</td>\n",
       "      <td>0.1</td>\n",
       "      <td>98.866805</td>\n",
       "    </tr>\n",
       "    <tr>\n",
       "      <th>1</th>\n",
       "      <td>0.0100</td>\n",
       "      <td>11.914974</td>\n",
       "      <td>1.0</td>\n",
       "      <td>22.757247</td>\n",
       "    </tr>\n",
       "    <tr>\n",
       "      <th>2</th>\n",
       "      <td>1.0000</td>\n",
       "      <td>14.589195</td>\n",
       "      <td>2.0</td>\n",
       "      <td>12.973612</td>\n",
       "    </tr>\n",
       "    <tr>\n",
       "      <th>3</th>\n",
       "      <td>5.0000</td>\n",
       "      <td>14.897592</td>\n",
       "      <td>5.0</td>\n",
       "      <td>11.914974</td>\n",
       "    </tr>\n",
       "    <tr>\n",
       "      <th>4</th>\n",
       "      <td>10.0000</td>\n",
       "      <td>15.226189</td>\n",
       "      <td>10.0</td>\n",
       "      <td>13.609057</td>\n",
       "    </tr>\n",
       "    <tr>\n",
       "      <th>5</th>\n",
       "      <td>50.0000</td>\n",
       "      <td>19.320487</td>\n",
       "      <td>50.0</td>\n",
       "      <td>18.103361</td>\n",
       "    </tr>\n",
       "  </tbody>\n",
       "</table>\n",
       "</div>"
      ],
      "text/plain": [
       "   C Values     C MAPE  Gamma Values  Gamma MAPE\n",
       "0    0.0025  11.940888           0.1   98.866805\n",
       "1    0.0100  11.914974           1.0   22.757247\n",
       "2    1.0000  14.589195           2.0   12.973612\n",
       "3    5.0000  14.897592           5.0   11.914974\n",
       "4   10.0000  15.226189          10.0   13.609057\n",
       "5   50.0000  19.320487          50.0   18.103361"
      ]
     },
     "execution_count": 16,
     "metadata": {},
     "output_type": "execute_result"
    }
   ],
   "source": [
    "feature_df = pd.DataFrame()\n",
    "feature_df['C Values'] = C_range\n",
    "feature_df['C MAPE'] = MAPE_vary_C\n",
    "feature_df['Gamma Values'] = gamma_range\n",
    "feature_df['Gamma MAPE'] = MAPE_vary_gamma\n",
    "feature_df"
   ]
  },
  {
   "cell_type": "markdown",
   "metadata": {},
   "source": [
    "From the above plots, it is evident that the <b>gaussian kernel</b> performs better that its counterparts, and it is thus selected. It can also be seen that the error inceases with increase in the regularization parameter. From the table above, the C value with the lowest error is<b> 0.01</b> while the gamma value with the lowest error is <b>5.0</b>. Therefore, these values are selected for the final model."
   ]
  },
  {
   "cell_type": "code",
   "execution_count": 17,
   "metadata": {},
   "outputs": [
    {
     "data": {
      "text/plain": [
       "11.914974463848505"
      ]
     },
     "execution_count": 17,
     "metadata": {},
     "output_type": "execute_result"
    }
   ],
   "source": [
    "# Evaluate the model with optimal parameters\n",
    "optimal_kernel_ridge = get_kernel_ridge_regression_score(data_splits,kernel_type='gaussian', C=0.01, gamma=5.0)\n",
    "optimal_kernel_ridge"
   ]
  },
  {
   "cell_type": "markdown",
   "metadata": {},
   "source": [
    "# Comparison with other algorithms"
   ]
  },
  {
   "cell_type": "markdown",
   "metadata": {},
   "source": [
    "## Kernel Ridge Regression"
   ]
  },
  {
   "cell_type": "code",
   "execution_count": 18,
   "metadata": {},
   "outputs": [],
   "source": [
    "from sklearn.metrics import r2_score\n",
    "\n",
    "regressor_krr = KernelRidge(kernel_type = 'gaussian', C=0.01 ,gamma = 5.0)\n",
    "regressor_krr.fit(data_splits['x_train'], data_splits['y_train']);"
   ]
  },
  {
   "cell_type": "code",
   "execution_count": 19,
   "metadata": {},
   "outputs": [
    {
     "name": "stdout",
     "output_type": "stream",
     "text": [
      "R2_score:  0.7609600328729184\n",
      "MAPE:  11.914974463848505\n"
     ]
    }
   ],
   "source": [
    "data_splits['x_train'],data_splits['x_test'].values\n",
    "\n",
    "# Predicting the Model's R2 Score \n",
    "y_pred_krr =regressor_krr.predict(data_splits['x_train'],data_splits['x_test'].values)\n",
    "r2_score_krr = r2_score(data_splits['y_test'], y_pred_krr)\n",
    "\n",
    "# Predicting MAPE the Test set results\n",
    "mape_krr = mean_absolute_percentage_error(data_splits['y_test'], y_pred_krr)\n",
    "print('R2_score: ', r2_score_krr)\n",
    "print(\"MAPE: \", mape_krr)"
   ]
  },
  {
   "cell_type": "markdown",
   "metadata": {},
   "source": [
    "## Support Vector Regression"
   ]
  },
  {
   "cell_type": "code",
   "execution_count": 20,
   "metadata": {},
   "outputs": [
    {
     "data": {
      "text/plain": [
       "SVR(gamma='auto')"
      ]
     },
     "execution_count": 20,
     "metadata": {},
     "output_type": "execute_result"
    }
   ],
   "source": [
    "from sklearn.svm import SVR\n",
    "from sklearn.model_selection import cross_val_score\n",
    "\n",
    "svr_regressor = SVR(kernel='rbf', gamma='auto')\n",
    "svr_regressor.fit(data_splits['x_train'], data_splits['y_train'])"
   ]
  },
  {
   "cell_type": "code",
   "execution_count": 21,
   "metadata": {},
   "outputs": [
    {
     "name": "stdout",
     "output_type": "stream",
     "text": [
      "R2_score:  0.6970284552507131\n",
      "MAPE:  16.350502513464697\n"
     ]
    }
   ],
   "source": [
    "# Predicting the Model's R2 Score \n",
    "y_pred_svr =svr_regressor.predict(data_splits['x_test'])\n",
    "r2_score_svr = r2_score(data_splits['y_test'],y_pred_svr)\n",
    "\n",
    "# Predicting MAPE the Test set results\n",
    "mape_svr = mean_absolute_percentage_error(data_splits['y_test'], y_pred_svr)\n",
    "print('R2_score: ', r2_score_svr)\n",
    "print(\"MAPE: \", mape_svr)"
   ]
  },
  {
   "cell_type": "markdown",
   "metadata": {},
   "source": [
    "## Decision Tree Regression"
   ]
  },
  {
   "cell_type": "code",
   "execution_count": 22,
   "metadata": {},
   "outputs": [
    {
     "data": {
      "text/plain": [
       "DecisionTreeRegressor(random_state=0)"
      ]
     },
     "execution_count": 22,
     "metadata": {},
     "output_type": "execute_result"
    }
   ],
   "source": [
    "# Fitting the Decision Tree Regression Model to the dataset\n",
    "from sklearn.tree import DecisionTreeRegressor\n",
    "regressor_dt = DecisionTreeRegressor(random_state = 0)\n",
    "regressor_dt.fit(data_splits['x_train'], data_splits['y_train'])"
   ]
  },
  {
   "cell_type": "code",
   "execution_count": 23,
   "metadata": {},
   "outputs": [
    {
     "name": "stdout",
     "output_type": "stream",
     "text": [
      "R2_score:  0.3531968587732246\n",
      "MAPE:  16.514877852008784\n"
     ]
    }
   ],
   "source": [
    "# Predicting the Model's R2 Score \n",
    "y_pred_dt =regressor_dt.predict(data_splits['x_test'])\n",
    "r2_score_dt = r2_score(data_splits['y_test'],y_pred_dt)\n",
    "\n",
    "# Predicting MAPE the Test set results\n",
    "mape_dt = mean_absolute_percentage_error(data_splits['y_test'], y_pred_dt)\n",
    "print('R2_score: ', r2_score_dt)\n",
    "print(\"MAPE: \", mape_dt)"
   ]
  },
  {
   "cell_type": "markdown",
   "metadata": {},
   "source": [
    "## Random Forest Regression"
   ]
  },
  {
   "cell_type": "code",
   "execution_count": 24,
   "metadata": {},
   "outputs": [
    {
     "data": {
      "text/plain": [
       "RandomForestRegressor(n_estimators=500, random_state=0)"
      ]
     },
     "execution_count": 24,
     "metadata": {},
     "output_type": "execute_result"
    }
   ],
   "source": [
    "# Fitting the Random Forest Regression to the dataset\n",
    "from sklearn.ensemble import RandomForestRegressor\n",
    "regressor_rf = RandomForestRegressor(n_estimators = 500, random_state = 0)\n",
    "regressor_rf.fit(data_splits['x_train'], data_splits['y_train'])"
   ]
  },
  {
   "cell_type": "code",
   "execution_count": 25,
   "metadata": {},
   "outputs": [
    {
     "name": "stdout",
     "output_type": "stream",
     "text": [
      "R2_score:  0.6150818630933684\n",
      "MAPE:  14.143096306618721\n"
     ]
    }
   ],
   "source": [
    "# Predicting the Model's R2 Score \n",
    "y_pred_rf =regressor_rf.predict(data_splits['x_test'])\n",
    "r2_score_rf = r2_score(data_splits['y_test'],y_pred_rf)\n",
    "\n",
    "# Predicting MAPE the Test set results\n",
    "mape_rf = mean_absolute_percentage_error(data_splits['y_test'], y_pred_rf)\n",
    "print('R2_score: ', r2_score_rf)\n",
    "print(\"MAPE: \", mape_rf)"
   ]
  },
  {
   "cell_type": "markdown",
   "metadata": {},
   "source": [
    "## KNN Regression"
   ]
  },
  {
   "cell_type": "code",
   "execution_count": 26,
   "metadata": {},
   "outputs": [
    {
     "data": {
      "text/plain": [
       "KNeighborsRegressor(n_neighbors=10)"
      ]
     },
     "execution_count": 26,
     "metadata": {},
     "output_type": "execute_result"
    }
   ],
   "source": [
    "# Fitting the K Nearest Neighbours Regression to the dataset\n",
    "from sklearn import neighbors\n",
    "regressor_knn =neighbors.KNeighborsRegressor(n_neighbors = 10)\n",
    "regressor_knn.fit(data_splits['x_train'], data_splits['y_train'])"
   ]
  },
  {
   "cell_type": "code",
   "execution_count": 27,
   "metadata": {},
   "outputs": [
    {
     "name": "stdout",
     "output_type": "stream",
     "text": [
      "R2_score:  0.6569215073377351\n",
      "MAPE:  14.369750739585019\n"
     ]
    }
   ],
   "source": [
    "# Predicting the Model's R2 Score \n",
    "y_pred_knn =regressor_knn.predict(data_splits['x_test'])\n",
    "r2_score_knn = r2_score(data_splits['y_test'],y_pred_knn)\n",
    "\n",
    "# Predicting MAPE the Test set results\n",
    "mape_knn = mean_absolute_percentage_error(data_splits['y_test'], y_pred_knn)\n",
    "print('R2_score: ', r2_score_knn)\n",
    "print(\"MAPE: \", mape_knn)"
   ]
  },
  {
   "cell_type": "markdown",
   "metadata": {},
   "source": [
    "## XGBoost Regression"
   ]
  },
  {
   "cell_type": "code",
   "execution_count": 28,
   "metadata": {},
   "outputs": [
    {
     "data": {
      "text/plain": [
       "XGBRegressor(base_score=0.5, booster='gbtree', colsample_bylevel=1,\n",
       "             colsample_bynode=1, colsample_bytree=0.8, eta=0.1, gamma=0,\n",
       "             gpu_id=-1, importance_type='gain', interaction_constraints='',\n",
       "             learning_rate=0.100000001, max_delta_step=0, max_depth=7,\n",
       "             min_child_weight=1, missing=nan, monotone_constraints='()',\n",
       "             n_estimators=1000, n_jobs=0, num_parallel_tree=1, random_state=0,\n",
       "             reg_alpha=0, reg_lambda=1, scale_pos_weight=1, subsample=0.7,\n",
       "             tree_method='exact', validate_parameters=1, verbosity=None)"
      ]
     },
     "execution_count": 28,
     "metadata": {},
     "output_type": "execute_result"
    }
   ],
   "source": [
    "import xgboost\n",
    "from xgboost import XGBRegressor\n",
    "\n",
    "# create an xgboost regression model\n",
    "regressor_xgb = XGBRegressor(\n",
    "    n_estimators=1000, \n",
    "    max_depth=7, \n",
    "    eta=0.1, \n",
    "    subsample=0.7, \n",
    "    colsample_bytree=0.8,\n",
    ")\n",
    "\n",
    "regressor_xgb.fit(data_splits['x_train'], data_splits['y_train'])"
   ]
  },
  {
   "cell_type": "code",
   "execution_count": 29,
   "metadata": {},
   "outputs": [
    {
     "name": "stdout",
     "output_type": "stream",
     "text": [
      "R2_score:  0.725278895747855\n",
      "MAPE:  11.924203209567874\n"
     ]
    }
   ],
   "source": [
    "# Predicting the Model's R2 Score \n",
    "y_pred_xgb =regressor_xgb.predict(data_splits['x_test'].values)\n",
    "r2_score_xgb = r2_score(data_splits['y_test'],y_pred_xgb)\n",
    "\n",
    "# Predicting MAPE the Test set results\n",
    "mape_xgb = mean_absolute_percentage_error(data_splits['y_test'], y_pred_xgb)\n",
    "print('R2_score: ', r2_score_xgb)\n",
    "print(\"MAPE: \", mape_xgb)"
   ]
  },
  {
   "cell_type": "code",
   "execution_count": 30,
   "metadata": {},
   "outputs": [
    {
     "name": "stderr",
     "output_type": "stream",
     "text": [
      "C:\\Users\\chepk\\Anaconda3\\lib\\site-packages\\tensorflow\\python\\framework\\dtypes.py:516: FutureWarning: Passing (type, 1) or '1type' as a synonym of type is deprecated; in a future version of numpy, it will be understood as (type, (1,)) / '(1,)type'.\n",
      "  _np_qint8 = np.dtype([(\"qint8\", np.int8, 1)])\n",
      "C:\\Users\\chepk\\Anaconda3\\lib\\site-packages\\tensorflow\\python\\framework\\dtypes.py:517: FutureWarning: Passing (type, 1) or '1type' as a synonym of type is deprecated; in a future version of numpy, it will be understood as (type, (1,)) / '(1,)type'.\n",
      "  _np_quint8 = np.dtype([(\"quint8\", np.uint8, 1)])\n",
      "C:\\Users\\chepk\\Anaconda3\\lib\\site-packages\\tensorflow\\python\\framework\\dtypes.py:518: FutureWarning: Passing (type, 1) or '1type' as a synonym of type is deprecated; in a future version of numpy, it will be understood as (type, (1,)) / '(1,)type'.\n",
      "  _np_qint16 = np.dtype([(\"qint16\", np.int16, 1)])\n",
      "C:\\Users\\chepk\\Anaconda3\\lib\\site-packages\\tensorflow\\python\\framework\\dtypes.py:519: FutureWarning: Passing (type, 1) or '1type' as a synonym of type is deprecated; in a future version of numpy, it will be understood as (type, (1,)) / '(1,)type'.\n",
      "  _np_quint16 = np.dtype([(\"quint16\", np.uint16, 1)])\n",
      "C:\\Users\\chepk\\Anaconda3\\lib\\site-packages\\tensorflow\\python\\framework\\dtypes.py:520: FutureWarning: Passing (type, 1) or '1type' as a synonym of type is deprecated; in a future version of numpy, it will be understood as (type, (1,)) / '(1,)type'.\n",
      "  _np_qint32 = np.dtype([(\"qint32\", np.int32, 1)])\n",
      "C:\\Users\\chepk\\Anaconda3\\lib\\site-packages\\tensorflow\\python\\framework\\dtypes.py:525: FutureWarning: Passing (type, 1) or '1type' as a synonym of type is deprecated; in a future version of numpy, it will be understood as (type, (1,)) / '(1,)type'.\n",
      "  np_resource = np.dtype([(\"resource\", np.ubyte, 1)])\n"
     ]
    },
    {
     "name": "stdout",
     "output_type": "stream",
     "text": [
      "WARNING:tensorflow:From C:\\Users\\chepk\\Anaconda3\\lib\\site-packages\\tensorflow\\python\\keras\\initializers.py:143: calling RandomNormal.__init__ (from tensorflow.python.ops.init_ops) with dtype is deprecated and will be removed in a future version.\n",
      "Instructions for updating:\n",
      "Call initializer instance with the dtype argument instead of passing it to the constructor\n",
      "WARNING:tensorflow:From C:\\Users\\chepk\\Anaconda3\\lib\\site-packages\\tensorflow\\python\\ops\\init_ops.py:1251: calling VarianceScaling.__init__ (from tensorflow.python.ops.init_ops) with dtype is deprecated and will be removed in a future version.\n",
      "Instructions for updating:\n",
      "Call initializer instance with the dtype argument instead of passing it to the constructor\n",
      "Train on 323 samples, validate on 81 samples\n",
      "Epoch 1/30\n",
      "323/323 [==============================] - 5s 14ms/sample - loss: 620.1098 - mean_squared_error: 620.1097 - mean_absolute_error: 22.9218 - val_loss: 588.4044 - val_mean_squared_error: 588.4044 - val_mean_absolute_error: 22.3690\n",
      "Epoch 2/30\n",
      "323/323 [==============================] - 0s 56us/sample - loss: 609.1083 - mean_squared_error: 609.1083 - mean_absolute_error: 22.6749 - val_loss: 575.7065 - val_mean_squared_error: 575.7065 - val_mean_absolute_error: 22.0745\n",
      "Epoch 3/30\n",
      "323/323 [==============================] - 0s 56us/sample - loss: 596.1759 - mean_squared_error: 596.1759 - mean_absolute_error: 22.3790 - val_loss: 559.9462 - val_mean_squared_error: 559.9462 - val_mean_absolute_error: 21.7064\n",
      "Epoch 4/30\n",
      "323/323 [==============================] - 0s 53us/sample - loss: 579.7558 - mean_squared_error: 579.7557 - mean_absolute_error: 22.0089 - val_loss: 540.1008 - val_mean_squared_error: 540.1008 - val_mean_absolute_error: 21.2352\n",
      "Epoch 5/30\n",
      "323/323 [==============================] - 0s 77us/sample - loss: 559.1258 - mean_squared_error: 559.1258 - mean_absolute_error: 21.5296 - val_loss: 515.3708 - val_mean_squared_error: 515.3708 - val_mean_absolute_error: 20.6345\n",
      "Epoch 6/30\n",
      "323/323 [==============================] - 0s 93us/sample - loss: 533.4577 - mean_squared_error: 533.4577 - mean_absolute_error: 20.9131 - val_loss: 485.3990 - val_mean_squared_error: 485.3990 - val_mean_absolute_error: 19.8841\n",
      "Epoch 7/30\n",
      "323/323 [==============================] - 0s 87us/sample - loss: 501.7626 - mean_squared_error: 501.7626 - mean_absolute_error: 20.1482 - val_loss: 449.9992 - val_mean_squared_error: 449.9992 - val_mean_absolute_error: 18.9591\n",
      "Epoch 8/30\n",
      "323/323 [==============================] - 0s 81us/sample - loss: 464.9596 - mean_squared_error: 464.9596 - mean_absolute_error: 19.2081 - val_loss: 408.9187 - val_mean_squared_error: 408.9187 - val_mean_absolute_error: 17.8665\n",
      "Epoch 9/30\n",
      "323/323 [==============================] - 0s 68us/sample - loss: 422.1894 - mean_squared_error: 422.1894 - mean_absolute_error: 18.0940 - val_loss: 362.7476 - val_mean_squared_error: 362.7476 - val_mean_absolute_error: 16.5801\n",
      "Epoch 10/30\n",
      "323/323 [==============================] - 0s 87us/sample - loss: 374.0024 - mean_squared_error: 374.0024 - mean_absolute_error: 16.8090 - val_loss: 312.7967 - val_mean_squared_error: 312.7967 - val_mean_absolute_error: 15.1761\n",
      "Epoch 11/30\n",
      "323/323 [==============================] - 0s 79us/sample - loss: 322.8682 - mean_squared_error: 322.8681 - mean_absolute_error: 15.3828 - val_loss: 260.7512 - val_mean_squared_error: 260.7512 - val_mean_absolute_error: 13.7218\n",
      "Epoch 12/30\n",
      "323/323 [==============================] - 0s 74us/sample - loss: 266.2222 - mean_squared_error: 266.2222 - mean_absolute_error: 13.7967 - val_loss: 209.5196 - val_mean_squared_error: 209.5196 - val_mean_absolute_error: 12.2765\n",
      "Epoch 13/30\n",
      "323/323 [==============================] - 0s 77us/sample - loss: 213.8273 - mean_squared_error: 213.8273 - mean_absolute_error: 12.2367 - val_loss: 161.4902 - val_mean_squared_error: 161.4902 - val_mean_absolute_error: 10.7389\n",
      "Epoch 14/30\n",
      "323/323 [==============================] - 0s 77us/sample - loss: 163.2613 - mean_squared_error: 163.2613 - mean_absolute_error: 10.6194 - val_loss: 120.2638 - val_mean_squared_error: 120.2638 - val_mean_absolute_error: 9.2129\n",
      "Epoch 15/30\n",
      "323/323 [==============================] - 0s 77us/sample - loss: 121.4655 - mean_squared_error: 121.4655 - mean_absolute_error: 9.1038 - val_loss: 87.8661 - val_mean_squared_error: 87.8661 - val_mean_absolute_error: 7.8989\n",
      "Epoch 16/30\n",
      "323/323 [==============================] - 0s 71us/sample - loss: 91.0144 - mean_squared_error: 91.0144 - mean_absolute_error: 7.6219 - val_loss: 66.2090 - val_mean_squared_error: 66.2090 - val_mean_absolute_error: 6.8476\n",
      "Epoch 17/30\n",
      "323/323 [==============================] - 0s 71us/sample - loss: 74.0751 - mean_squared_error: 74.0751 - mean_absolute_error: 6.7679 - val_loss: 55.3167 - val_mean_squared_error: 55.3167 - val_mean_absolute_error: 6.1072\n",
      "Epoch 18/30\n",
      "323/323 [==============================] - 0s 62us/sample - loss: 66.0580 - mean_squared_error: 66.0580 - mean_absolute_error: 6.3081 - val_loss: 50.4501 - val_mean_squared_error: 50.4501 - val_mean_absolute_error: 5.6983\n",
      "Epoch 19/30\n",
      "323/323 [==============================] - 0s 65us/sample - loss: 64.1563 - mean_squared_error: 64.1563 - mean_absolute_error: 6.1570 - val_loss: 46.6938 - val_mean_squared_error: 46.6938 - val_mean_absolute_error: 5.3856\n",
      "Epoch 20/30\n",
      "323/323 [==============================] - 0s 74us/sample - loss: 60.8225 - mean_squared_error: 60.8225 - mean_absolute_error: 5.9524 - val_loss: 41.4237 - val_mean_squared_error: 41.4237 - val_mean_absolute_error: 5.0119\n",
      "Epoch 21/30\n",
      "323/323 [==============================] - 0s 56us/sample - loss: 54.7114 - mean_squared_error: 54.7114 - mean_absolute_error: 5.5804 - val_loss: 35.5783 - val_mean_squared_error: 35.5783 - val_mean_absolute_error: 4.5783\n",
      "Epoch 22/30\n",
      "323/323 [==============================] - 0s 59us/sample - loss: 47.5078 - mean_squared_error: 47.5078 - mean_absolute_error: 5.1104 - val_loss: 30.7331 - val_mean_squared_error: 30.7331 - val_mean_absolute_error: 4.2269\n",
      "Epoch 23/30\n",
      "323/323 [==============================] - 0s 56us/sample - loss: 40.9118 - mean_squared_error: 40.9118 - mean_absolute_error: 4.6561 - val_loss: 27.3716 - val_mean_squared_error: 27.3716 - val_mean_absolute_error: 3.9929\n",
      "Epoch 24/30\n",
      "323/323 [==============================] - 0s 56us/sample - loss: 36.2944 - mean_squared_error: 36.2944 - mean_absolute_error: 4.3298 - val_loss: 24.9346 - val_mean_squared_error: 24.9346 - val_mean_absolute_error: 3.8230\n",
      "Epoch 25/30\n",
      "323/323 [==============================] - 0s 74us/sample - loss: 33.2965 - mean_squared_error: 33.2965 - mean_absolute_error: 4.1406 - val_loss: 23.4150 - val_mean_squared_error: 23.4150 - val_mean_absolute_error: 3.7165\n",
      "Epoch 26/30\n",
      "323/323 [==============================] - 0s 71us/sample - loss: 31.2285 - mean_squared_error: 31.2285 - mean_absolute_error: 3.9852 - val_loss: 22.2694 - val_mean_squared_error: 22.2694 - val_mean_absolute_error: 3.6502\n",
      "Epoch 27/30\n",
      "323/323 [==============================] - 0s 62us/sample - loss: 29.6759 - mean_squared_error: 29.6759 - mean_absolute_error: 3.8735 - val_loss: 21.2867 - val_mean_squared_error: 21.2867 - val_mean_absolute_error: 3.5850\n",
      "Epoch 28/30\n",
      "323/323 [==============================] - 0s 68us/sample - loss: 28.3382 - mean_squared_error: 28.3382 - mean_absolute_error: 3.7782 - val_loss: 20.4971 - val_mean_squared_error: 20.4971 - val_mean_absolute_error: 3.5295\n",
      "Epoch 29/30\n",
      "323/323 [==============================] - 0s 62us/sample - loss: 27.1358 - mean_squared_error: 27.1358 - mean_absolute_error: 3.6910 - val_loss: 19.9196 - val_mean_squared_error: 19.9196 - val_mean_absolute_error: 3.4835\n",
      "Epoch 30/30\n",
      "323/323 [==============================] - 0s 62us/sample - loss: 26.1966 - mean_squared_error: 26.1966 - mean_absolute_error: 3.6180 - val_loss: 19.4595 - val_mean_squared_error: 19.4595 - val_mean_absolute_error: 3.4479\n"
     ]
    }
   ],
   "source": [
    "import tensorflow\n",
    "from tensorflow.python.keras.layers import Dense\n",
    "from tensorflow.keras.layers import Dropout\n",
    "from tensorflow.python.keras.models import Sequential\n",
    "from tensorflow.python.keras.wrappers.scikit_learn import KerasRegressor\n",
    "\n",
    "import warnings\n",
    "with warnings.catch_warnings():\n",
    "    warnings.simplefilter('ignore') # Suppress warnings\n",
    "\n",
    "# create model\n",
    "model = Sequential()\n",
    "model.add(Dense(13, input_dim=13, kernel_initializer='normal', activation='relu'))\n",
    "model.add(Dense(2670, activation='relu'))\n",
    "model.add(Dense(1, activation='linear'))\n",
    "\n",
    "# Compile model\n",
    "model.compile(loss='mean_squared_error', optimizer='adam')\n",
    "\n",
    "model.compile(loss='mse', optimizer='adam', metrics=['mse','mae'])\n",
    "\n",
    "history =model.fit(data_splits['x_train'], data_splits['y_train'], epochs=30, batch_size=150, verbose=1, validation_split=0.2);"
   ]
  },
  {
   "cell_type": "code",
   "execution_count": 31,
   "metadata": {},
   "outputs": [
    {
     "name": "stdout",
     "output_type": "stream",
     "text": [
      "R2_score:  0.43148545666598426\n",
      "MAPE:  45.34963791874118\n"
     ]
    }
   ],
   "source": [
    "# Predicting the Model's R2 Score \n",
    "y_pred_NN = model.predict(data_splits['x_test'].values)\n",
    "r2_score_NN = r2_score(data_splits['y_test'],y_pred_NN)\n",
    "\n",
    "# Predicting MAPE the Test set results\n",
    "mape_NN = mean_absolute_percentage_error(data_splits['y_test'], y_pred_NN)\n",
    "print('R2_score: ', r2_score_NN)\n",
    "print(\"MAPE: \", mape_NN)"
   ]
  },
  {
   "cell_type": "code",
   "execution_count": 32,
   "metadata": {},
   "outputs": [],
   "source": [
    "models = [('Ridge Regressor', mape_krr, r2_score_krr),\n",
    "          ('Support Vector Regressor', mape_svr, r2_score_svr),\n",
    "          ('Decision Tree Regressor', mape_dt, r2_score_dt),\n",
    "          ('Random Forest Regressor', mape_rf, r2_score_rf),  \n",
    "          ('KNN Regressor', mape_knn, r2_score_knn),\n",
    "          ('XGBoost Regressor', mape_xgb, r2_score_xgb),\n",
    "          ('Keras Regressor', mape_NN, r2_score_NN)\n",
    "         ]"
   ]
  },
  {
   "cell_type": "code",
   "execution_count": 33,
   "metadata": {},
   "outputs": [
    {
     "data": {
      "text/html": [
       "<div>\n",
       "<style scoped>\n",
       "    .dataframe tbody tr th:only-of-type {\n",
       "        vertical-align: middle;\n",
       "    }\n",
       "\n",
       "    .dataframe tbody tr th {\n",
       "        vertical-align: top;\n",
       "    }\n",
       "\n",
       "    .dataframe thead th {\n",
       "        text-align: right;\n",
       "    }\n",
       "</style>\n",
       "<table border=\"1\" class=\"dataframe\">\n",
       "  <thead>\n",
       "    <tr style=\"text-align: right;\">\n",
       "      <th></th>\n",
       "      <th>Model</th>\n",
       "      <th>MAPE</th>\n",
       "      <th>R2_Score</th>\n",
       "    </tr>\n",
       "  </thead>\n",
       "  <tbody>\n",
       "    <tr>\n",
       "      <th>0</th>\n",
       "      <td>Ridge Regressor</td>\n",
       "      <td>11.914974</td>\n",
       "      <td>0.760960</td>\n",
       "    </tr>\n",
       "    <tr>\n",
       "      <th>1</th>\n",
       "      <td>Support Vector Regressor</td>\n",
       "      <td>16.350503</td>\n",
       "      <td>0.697028</td>\n",
       "    </tr>\n",
       "    <tr>\n",
       "      <th>2</th>\n",
       "      <td>Decision Tree Regressor</td>\n",
       "      <td>16.514878</td>\n",
       "      <td>0.353197</td>\n",
       "    </tr>\n",
       "    <tr>\n",
       "      <th>3</th>\n",
       "      <td>Random Forest Regressor</td>\n",
       "      <td>14.143096</td>\n",
       "      <td>0.615082</td>\n",
       "    </tr>\n",
       "    <tr>\n",
       "      <th>4</th>\n",
       "      <td>KNN Regressor</td>\n",
       "      <td>14.369751</td>\n",
       "      <td>0.656922</td>\n",
       "    </tr>\n",
       "    <tr>\n",
       "      <th>5</th>\n",
       "      <td>XGBoost Regressor</td>\n",
       "      <td>11.924203</td>\n",
       "      <td>0.725279</td>\n",
       "    </tr>\n",
       "    <tr>\n",
       "      <th>6</th>\n",
       "      <td>Keras Regressor</td>\n",
       "      <td>45.349638</td>\n",
       "      <td>0.431485</td>\n",
       "    </tr>\n",
       "  </tbody>\n",
       "</table>\n",
       "</div>"
      ],
      "text/plain": [
       "                      Model       MAPE  R2_Score\n",
       "0           Ridge Regressor  11.914974  0.760960\n",
       "1  Support Vector Regressor  16.350503  0.697028\n",
       "2   Decision Tree Regressor  16.514878  0.353197\n",
       "3   Random Forest Regressor  14.143096  0.615082\n",
       "4             KNN Regressor  14.369751  0.656922\n",
       "5         XGBoost Regressor  11.924203  0.725279\n",
       "6           Keras Regressor  45.349638  0.431485"
      ]
     },
     "execution_count": 33,
     "metadata": {},
     "output_type": "execute_result"
    }
   ],
   "source": [
    "predict = pd.DataFrame(data = models, columns=['Model', 'MAPE', 'R2_Score'])\n",
    "predict"
   ]
  },
  {
   "cell_type": "markdown",
   "metadata": {},
   "source": [
    "## Visualizing Model Performance "
   ]
  },
  {
   "cell_type": "code",
   "execution_count": 34,
   "metadata": {
    "scrolled": true
   },
   "outputs": [
    {
     "data": {
      "image/png": "[encoded data removed]",
      "text/plain": [
       "<Figure size 1296x432 with 1 Axes>"
      ]
     },
     "metadata": {},
     "output_type": "display_data"
    }
   ],
   "source": [
    "predict.sort_values(by=['MAPE'], ascending=False, inplace=True)\n",
    "\n",
    "sns.set(font_scale = 1.5)\n",
    "f, axe = plt.subplots(1,1, figsize=(18,6))\n",
    "sns.barplot(x='MAPE', y='Model', data=predict, ax = axe)\n",
    "axe.set_xlabel('MAPE', size=16)\n",
    "axe.set_ylabel('Model', size=16)\n",
    "\n",
    "plt.show()\n"
   ]
  },
  {
   "cell_type": "code",
   "execution_count": 35,
   "metadata": {},
   "outputs": [
    {
     "data": {
      "image/png": "[encoded data removed]",
      "text/plain": [
       "<Figure size 1296x432 with 1 Axes>"
      ]
     },
     "metadata": {},
     "output_type": "display_data"
    }
   ],
   "source": [
    "f, axe = plt.subplots(1,1, figsize=(18,6))\n",
    "\n",
    "predict.sort_values(by=['R2_Score'], ascending=False, inplace=True)\n",
    "\n",
    "sns.set(font_scale = 1.5)\n",
    "sns.barplot(x='R2_Score', y='Model', data = predict, ax = axe)\n",
    "#axes[0].set(xlabel='Region', ylabel='Charges')\n",
    "axe.set_xlabel('R2 Score', size=16)\n",
    "axe.set_ylabel('Model', fontsize = 16)\n",
    "axe.set_xlim(0,1.0)\n",
    "plt.show()"
   ]
  },
  {
   "cell_type": "markdown",
   "metadata": {},
   "source": [
    "# Conclusion\n",
    "The Kernel Ridge Regression perfoms extremely well compared to the other regression algorithm, having the highest R2 score and the lowest error. This is to show that it has overcome the problem of overfitting by its ability to generalize well when exposed to unseen data. On the other hand, the Neural network based model (the Keras regressor) performs very poorly and is clearly not suitable to solve regression problems. "
   ]
  },
  {
   "cell_type": "code",
   "execution_count": null,
   "metadata": {},
   "outputs": [],
   "source": []
  }
 ],
 "metadata": {
  "kernelspec": {
   "display_name": "Python 3",
   "language": "python",
   "name": "python3"
  },
  "language_info": {
   "codemirror_mode": {
    "name": "ipython",
    "version": 3
   },
   "file_extension": ".py",
   "mimetype": "text/x-python",
   "name": "python",
   "nbconvert_exporter": "python",
   "pygments_lexer": "ipython3",
   "version": "3.7.3"
  }
 },
 "nbformat": 4,
 "nbformat_minor": 2
}
